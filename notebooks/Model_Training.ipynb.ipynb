{
  "nbformat": 4,
  "nbformat_minor": 0,
  "metadata": {
    "colab": {
      "provenance": []
    },
    "kernelspec": {
      "name": "python3",
      "display_name": "Python 3"
    },
    "language_info": {
      "name": "python"
    }
  },
  "cells": [
    {
      "cell_type": "code",
      "execution_count": 77,
      "metadata": {
        "colab": {
          "base_uri": "https://localhost:8080/"
        },
        "id": "SSJQCdGIiaHH",
        "outputId": "93e42e38-c028-4fb1-f714-24bf9a9ae253"
      },
      "outputs": [
        {
          "output_type": "stream",
          "name": "stdout",
          "text": [
            "Requirement already satisfied: yfinance in /usr/local/lib/python3.11/dist-packages (0.2.54)\n",
            "Requirement already satisfied: pandas>=1.3.0 in /usr/local/lib/python3.11/dist-packages (from yfinance) (2.2.2)\n",
            "Requirement already satisfied: numpy>=1.16.5 in /usr/local/lib/python3.11/dist-packages (from yfinance) (1.26.4)\n",
            "Requirement already satisfied: requests>=2.31 in /usr/local/lib/python3.11/dist-packages (from yfinance) (2.32.3)\n",
            "Requirement already satisfied: multitasking>=0.0.7 in /usr/local/lib/python3.11/dist-packages (from yfinance) (0.0.11)\n",
            "Requirement already satisfied: platformdirs>=2.0.0 in /usr/local/lib/python3.11/dist-packages (from yfinance) (4.3.6)\n",
            "Requirement already satisfied: pytz>=2022.5 in /usr/local/lib/python3.11/dist-packages (from yfinance) (2025.1)\n",
            "Requirement already satisfied: frozendict>=2.3.4 in /usr/local/lib/python3.11/dist-packages (from yfinance) (2.4.6)\n",
            "Requirement already satisfied: peewee>=3.16.2 in /usr/local/lib/python3.11/dist-packages (from yfinance) (3.17.9)\n",
            "Requirement already satisfied: beautifulsoup4>=4.11.1 in /usr/local/lib/python3.11/dist-packages (from yfinance) (4.13.3)\n",
            "Requirement already satisfied: soupsieve>1.2 in /usr/local/lib/python3.11/dist-packages (from beautifulsoup4>=4.11.1->yfinance) (2.6)\n",
            "Requirement already satisfied: typing-extensions>=4.0.0 in /usr/local/lib/python3.11/dist-packages (from beautifulsoup4>=4.11.1->yfinance) (4.12.2)\n",
            "Requirement already satisfied: python-dateutil>=2.8.2 in /usr/local/lib/python3.11/dist-packages (from pandas>=1.3.0->yfinance) (2.8.2)\n",
            "Requirement already satisfied: tzdata>=2022.7 in /usr/local/lib/python3.11/dist-packages (from pandas>=1.3.0->yfinance) (2025.1)\n",
            "Requirement already satisfied: charset-normalizer<4,>=2 in /usr/local/lib/python3.11/dist-packages (from requests>=2.31->yfinance) (3.4.1)\n",
            "Requirement already satisfied: idna<4,>=2.5 in /usr/local/lib/python3.11/dist-packages (from requests>=2.31->yfinance) (3.10)\n",
            "Requirement already satisfied: urllib3<3,>=1.21.1 in /usr/local/lib/python3.11/dist-packages (from requests>=2.31->yfinance) (2.3.0)\n",
            "Requirement already satisfied: certifi>=2017.4.17 in /usr/local/lib/python3.11/dist-packages (from requests>=2.31->yfinance) (2025.1.31)\n",
            "Requirement already satisfied: six>=1.5 in /usr/local/lib/python3.11/dist-packages (from python-dateutil>=2.8.2->pandas>=1.3.0->yfinance) (1.17.0)\n"
          ]
        }
      ],
      "source": [
        "! pip install yfinance"
      ]
    },
    {
      "cell_type": "code",
      "source": [
        "! pip install tensorflow"
      ],
      "metadata": {
        "colab": {
          "base_uri": "https://localhost:8080/"
        },
        "id": "YR0DefVDscmU",
        "outputId": "a54e7359-58c4-42c1-9f89-8377d26ec33a"
      },
      "execution_count": 78,
      "outputs": [
        {
          "output_type": "stream",
          "name": "stdout",
          "text": [
            "Requirement already satisfied: tensorflow in /usr/local/lib/python3.11/dist-packages (2.18.0)\n",
            "Requirement already satisfied: absl-py>=1.0.0 in /usr/local/lib/python3.11/dist-packages (from tensorflow) (1.4.0)\n",
            "Requirement already satisfied: astunparse>=1.6.0 in /usr/local/lib/python3.11/dist-packages (from tensorflow) (1.6.3)\n",
            "Requirement already satisfied: flatbuffers>=24.3.25 in /usr/local/lib/python3.11/dist-packages (from tensorflow) (25.2.10)\n",
            "Requirement already satisfied: gast!=0.5.0,!=0.5.1,!=0.5.2,>=0.2.1 in /usr/local/lib/python3.11/dist-packages (from tensorflow) (0.6.0)\n",
            "Requirement already satisfied: google-pasta>=0.1.1 in /usr/local/lib/python3.11/dist-packages (from tensorflow) (0.2.0)\n",
            "Requirement already satisfied: libclang>=13.0.0 in /usr/local/lib/python3.11/dist-packages (from tensorflow) (18.1.1)\n",
            "Requirement already satisfied: opt-einsum>=2.3.2 in /usr/local/lib/python3.11/dist-packages (from tensorflow) (3.4.0)\n",
            "Requirement already satisfied: packaging in /usr/local/lib/python3.11/dist-packages (from tensorflow) (24.2)\n",
            "Requirement already satisfied: protobuf!=4.21.0,!=4.21.1,!=4.21.2,!=4.21.3,!=4.21.4,!=4.21.5,<6.0.0dev,>=3.20.3 in /usr/local/lib/python3.11/dist-packages (from tensorflow) (4.25.6)\n",
            "Requirement already satisfied: requests<3,>=2.21.0 in /usr/local/lib/python3.11/dist-packages (from tensorflow) (2.32.3)\n",
            "Requirement already satisfied: setuptools in /usr/local/lib/python3.11/dist-packages (from tensorflow) (75.1.0)\n",
            "Requirement already satisfied: six>=1.12.0 in /usr/local/lib/python3.11/dist-packages (from tensorflow) (1.17.0)\n",
            "Requirement already satisfied: termcolor>=1.1.0 in /usr/local/lib/python3.11/dist-packages (from tensorflow) (2.5.0)\n",
            "Requirement already satisfied: typing-extensions>=3.6.6 in /usr/local/lib/python3.11/dist-packages (from tensorflow) (4.12.2)\n",
            "Requirement already satisfied: wrapt>=1.11.0 in /usr/local/lib/python3.11/dist-packages (from tensorflow) (1.17.2)\n",
            "Requirement already satisfied: grpcio<2.0,>=1.24.3 in /usr/local/lib/python3.11/dist-packages (from tensorflow) (1.70.0)\n",
            "Requirement already satisfied: tensorboard<2.19,>=2.18 in /usr/local/lib/python3.11/dist-packages (from tensorflow) (2.18.0)\n",
            "Requirement already satisfied: keras>=3.5.0 in /usr/local/lib/python3.11/dist-packages (from tensorflow) (3.8.0)\n",
            "Requirement already satisfied: numpy<2.1.0,>=1.26.0 in /usr/local/lib/python3.11/dist-packages (from tensorflow) (1.26.4)\n",
            "Requirement already satisfied: h5py>=3.11.0 in /usr/local/lib/python3.11/dist-packages (from tensorflow) (3.12.1)\n",
            "Requirement already satisfied: ml-dtypes<0.5.0,>=0.4.0 in /usr/local/lib/python3.11/dist-packages (from tensorflow) (0.4.1)\n",
            "Requirement already satisfied: tensorflow-io-gcs-filesystem>=0.23.1 in /usr/local/lib/python3.11/dist-packages (from tensorflow) (0.37.1)\n",
            "Requirement already satisfied: wheel<1.0,>=0.23.0 in /usr/local/lib/python3.11/dist-packages (from astunparse>=1.6.0->tensorflow) (0.45.1)\n",
            "Requirement already satisfied: rich in /usr/local/lib/python3.11/dist-packages (from keras>=3.5.0->tensorflow) (13.9.4)\n",
            "Requirement already satisfied: namex in /usr/local/lib/python3.11/dist-packages (from keras>=3.5.0->tensorflow) (0.0.8)\n",
            "Requirement already satisfied: optree in /usr/local/lib/python3.11/dist-packages (from keras>=3.5.0->tensorflow) (0.14.0)\n",
            "Requirement already satisfied: charset-normalizer<4,>=2 in /usr/local/lib/python3.11/dist-packages (from requests<3,>=2.21.0->tensorflow) (3.4.1)\n",
            "Requirement already satisfied: idna<4,>=2.5 in /usr/local/lib/python3.11/dist-packages (from requests<3,>=2.21.0->tensorflow) (3.10)\n",
            "Requirement already satisfied: urllib3<3,>=1.21.1 in /usr/local/lib/python3.11/dist-packages (from requests<3,>=2.21.0->tensorflow) (2.3.0)\n",
            "Requirement already satisfied: certifi>=2017.4.17 in /usr/local/lib/python3.11/dist-packages (from requests<3,>=2.21.0->tensorflow) (2025.1.31)\n",
            "Requirement already satisfied: markdown>=2.6.8 in /usr/local/lib/python3.11/dist-packages (from tensorboard<2.19,>=2.18->tensorflow) (3.7)\n",
            "Requirement already satisfied: tensorboard-data-server<0.8.0,>=0.7.0 in /usr/local/lib/python3.11/dist-packages (from tensorboard<2.19,>=2.18->tensorflow) (0.7.2)\n",
            "Requirement already satisfied: werkzeug>=1.0.1 in /usr/local/lib/python3.11/dist-packages (from tensorboard<2.19,>=2.18->tensorflow) (3.1.3)\n",
            "Requirement already satisfied: MarkupSafe>=2.1.1 in /usr/local/lib/python3.11/dist-packages (from werkzeug>=1.0.1->tensorboard<2.19,>=2.18->tensorflow) (3.0.2)\n",
            "Requirement already satisfied: markdown-it-py>=2.2.0 in /usr/local/lib/python3.11/dist-packages (from rich->keras>=3.5.0->tensorflow) (3.0.0)\n",
            "Requirement already satisfied: pygments<3.0.0,>=2.13.0 in /usr/local/lib/python3.11/dist-packages (from rich->keras>=3.5.0->tensorflow) (2.18.0)\n",
            "Requirement already satisfied: mdurl~=0.1 in /usr/local/lib/python3.11/dist-packages (from markdown-it-py>=2.2.0->rich->keras>=3.5.0->tensorflow) (0.1.2)\n"
          ]
        }
      ]
    },
    {
      "cell_type": "code",
      "source": [
        "import yfinance as yf\n",
        "import pandas as pd\n",
        "import matplotlib.pyplot as plt\n",
        "import seaborn as sns\n",
        "\n",
        "\n",
        "# Fetch data for Reliance Industries (NSE)\n",
        "ticker = '^NSEI'  # Add '.NS' for NSE stocks and '.BO' for BSE stocks\n",
        "data = yf.download(ticker, start='2014-01-01', end='2025-03-04')\n",
        "\n",
        "print(data.head())\n"
      ],
      "metadata": {
        "colab": {
          "base_uri": "https://localhost:8080/"
        },
        "id": "NXV1yGcYijKp",
        "outputId": "ab1255c7-e824-4225-def3-3858f0bdff28"
      },
      "execution_count": 79,
      "outputs": [
        {
          "output_type": "stream",
          "name": "stderr",
          "text": [
            "\r[*********************100%***********************]  1 of 1 completed"
          ]
        },
        {
          "output_type": "stream",
          "name": "stdout",
          "text": [
            "Price             Close         High          Low         Open  Volume\n",
            "Ticker            ^NSEI        ^NSEI        ^NSEI        ^NSEI   ^NSEI\n",
            "Date                                                                  \n",
            "2014-01-02  6221.149902  6358.299805  6211.299805  6301.250000  158100\n",
            "2014-01-03  6211.149902  6221.700195  6171.250000  6194.549805  139000\n",
            "2014-01-06  6191.450195  6224.700195  6170.250000  6220.850098  118300\n",
            "2014-01-07  6162.250000  6221.500000  6144.750000  6203.899902  138600\n",
            "2014-01-08  6174.600098  6192.100098  6160.350098  6178.049805  146900\n"
          ]
        },
        {
          "output_type": "stream",
          "name": "stderr",
          "text": [
            "\n"
          ]
        }
      ]
    },
    {
      "cell_type": "markdown",
      "source": [
        "## Current Price of NIFTY 50 Index\n",
        "\n"
      ],
      "metadata": {
        "id": "VlNs056IWP8Q"
      }
    },
    {
      "cell_type": "code",
      "source": [
        "# Get current market Price\n",
        "nifty = yf.Ticker(\"^NSEI\")\n",
        "\n",
        "current_price = nifty.history(period = \"1d\")[\"Close\"].iloc[-1]\n",
        "\n",
        "current_price = round(current_price,2)\n",
        "\n",
        "print(f\"Current NIFTY 50 Price : {current_price} Rupees\")\n"
      ],
      "metadata": {
        "id": "Qq-Dk1ClWQRj",
        "outputId": "410bb007-f929-437f-dc41-8d75938c1caf",
        "colab": {
          "base_uri": "https://localhost:8080/"
        }
      },
      "execution_count": 114,
      "outputs": [
        {
          "output_type": "stream",
          "name": "stdout",
          "text": [
            "Current NIFTY 50 Price : 22320.65 Rupees\n"
          ]
        }
      ]
    },
    {
      "cell_type": "markdown",
      "source": [
        "### Load The Dataset"
      ],
      "metadata": {
        "id": "SEBM8jRRDYyg"
      }
    },
    {
      "cell_type": "code",
      "source": [
        "data.to_csv('data.csv')\n",
        "# Load Data\n",
        "df = pd.read_csv('data.csv')"
      ],
      "metadata": {
        "id": "iylwuLWwinQr"
      },
      "execution_count": 80,
      "outputs": []
    },
    {
      "cell_type": "code",
      "source": [
        "import numpy as np\n",
        "import pandas as pd\n",
        "from sklearn.preprocessing import MinMaxScaler"
      ],
      "metadata": {
        "id": "ba2rlshkird2"
      },
      "execution_count": 81,
      "outputs": []
    },
    {
      "cell_type": "code",
      "source": [
        "# drop 0th and 1st index row\n",
        "df = df.drop([0,1],axis=0).reset_index(drop=True)\n",
        "df['Close'] = round(df.Close.astype('float'),2)\n",
        "df"
      ],
      "metadata": {
        "colab": {
          "base_uri": "https://localhost:8080/",
          "height": 423
        },
        "id": "GOoRuMUHvmSX",
        "outputId": "f154e1b1-41dd-4298-fc41-79f2ac8b249d"
      },
      "execution_count": 82,
      "outputs": [
        {
          "output_type": "execute_result",
          "data": {
            "text/plain": [
              "           Price     Close              High               Low  \\\n",
              "0     2014-01-02   6221.15   6358.2998046875   6211.2998046875   \n",
              "1     2014-01-03   6211.15   6221.7001953125           6171.25   \n",
              "2     2014-01-06   6191.45   6224.7001953125           6170.25   \n",
              "3     2014-01-07   6162.25            6221.5           6144.75   \n",
              "4     2014-01-08   6174.60  6192.10009765625  6160.35009765625   \n",
              "...          ...       ...               ...               ...   \n",
              "2737  2025-02-24  22553.35    22668.05078125    22518.80078125   \n",
              "2738  2025-02-25  22547.55    22625.30078125   22513.900390625   \n",
              "2739  2025-02-27  22545.05    22613.30078125   22508.400390625   \n",
              "2740  2025-02-28  22124.70   22450.349609375   22104.849609375   \n",
              "2741  2025-03-03  22119.30    22261.55078125    22004.69921875   \n",
              "\n",
              "                  Open  Volume  \n",
              "0              6301.25  158100  \n",
              "1      6194.5498046875  139000  \n",
              "2     6220.85009765625  118300  \n",
              "3     6203.89990234375  138600  \n",
              "4      6178.0498046875  146900  \n",
              "...                ...     ...  \n",
              "2737   22609.349609375  214300  \n",
              "2738    22516.44921875  250300  \n",
              "2739    22568.94921875  289200  \n",
              "2740   22433.400390625  551300  \n",
              "2741    22194.55078125  282400  \n",
              "\n",
              "[2742 rows x 6 columns]"
            ],
            "text/html": [
              "\n",
              "  <div id=\"df-2fc88808-81e0-4642-8edc-af81837dffa0\" class=\"colab-df-container\">\n",
              "    <div>\n",
              "<style scoped>\n",
              "    .dataframe tbody tr th:only-of-type {\n",
              "        vertical-align: middle;\n",
              "    }\n",
              "\n",
              "    .dataframe tbody tr th {\n",
              "        vertical-align: top;\n",
              "    }\n",
              "\n",
              "    .dataframe thead th {\n",
              "        text-align: right;\n",
              "    }\n",
              "</style>\n",
              "<table border=\"1\" class=\"dataframe\">\n",
              "  <thead>\n",
              "    <tr style=\"text-align: right;\">\n",
              "      <th></th>\n",
              "      <th>Price</th>\n",
              "      <th>Close</th>\n",
              "      <th>High</th>\n",
              "      <th>Low</th>\n",
              "      <th>Open</th>\n",
              "      <th>Volume</th>\n",
              "    </tr>\n",
              "  </thead>\n",
              "  <tbody>\n",
              "    <tr>\n",
              "      <th>0</th>\n",
              "      <td>2014-01-02</td>\n",
              "      <td>6221.15</td>\n",
              "      <td>6358.2998046875</td>\n",
              "      <td>6211.2998046875</td>\n",
              "      <td>6301.25</td>\n",
              "      <td>158100</td>\n",
              "    </tr>\n",
              "    <tr>\n",
              "      <th>1</th>\n",
              "      <td>2014-01-03</td>\n",
              "      <td>6211.15</td>\n",
              "      <td>6221.7001953125</td>\n",
              "      <td>6171.25</td>\n",
              "      <td>6194.5498046875</td>\n",
              "      <td>139000</td>\n",
              "    </tr>\n",
              "    <tr>\n",
              "      <th>2</th>\n",
              "      <td>2014-01-06</td>\n",
              "      <td>6191.45</td>\n",
              "      <td>6224.7001953125</td>\n",
              "      <td>6170.25</td>\n",
              "      <td>6220.85009765625</td>\n",
              "      <td>118300</td>\n",
              "    </tr>\n",
              "    <tr>\n",
              "      <th>3</th>\n",
              "      <td>2014-01-07</td>\n",
              "      <td>6162.25</td>\n",
              "      <td>6221.5</td>\n",
              "      <td>6144.75</td>\n",
              "      <td>6203.89990234375</td>\n",
              "      <td>138600</td>\n",
              "    </tr>\n",
              "    <tr>\n",
              "      <th>4</th>\n",
              "      <td>2014-01-08</td>\n",
              "      <td>6174.60</td>\n",
              "      <td>6192.10009765625</td>\n",
              "      <td>6160.35009765625</td>\n",
              "      <td>6178.0498046875</td>\n",
              "      <td>146900</td>\n",
              "    </tr>\n",
              "    <tr>\n",
              "      <th>...</th>\n",
              "      <td>...</td>\n",
              "      <td>...</td>\n",
              "      <td>...</td>\n",
              "      <td>...</td>\n",
              "      <td>...</td>\n",
              "      <td>...</td>\n",
              "    </tr>\n",
              "    <tr>\n",
              "      <th>2737</th>\n",
              "      <td>2025-02-24</td>\n",
              "      <td>22553.35</td>\n",
              "      <td>22668.05078125</td>\n",
              "      <td>22518.80078125</td>\n",
              "      <td>22609.349609375</td>\n",
              "      <td>214300</td>\n",
              "    </tr>\n",
              "    <tr>\n",
              "      <th>2738</th>\n",
              "      <td>2025-02-25</td>\n",
              "      <td>22547.55</td>\n",
              "      <td>22625.30078125</td>\n",
              "      <td>22513.900390625</td>\n",
              "      <td>22516.44921875</td>\n",
              "      <td>250300</td>\n",
              "    </tr>\n",
              "    <tr>\n",
              "      <th>2739</th>\n",
              "      <td>2025-02-27</td>\n",
              "      <td>22545.05</td>\n",
              "      <td>22613.30078125</td>\n",
              "      <td>22508.400390625</td>\n",
              "      <td>22568.94921875</td>\n",
              "      <td>289200</td>\n",
              "    </tr>\n",
              "    <tr>\n",
              "      <th>2740</th>\n",
              "      <td>2025-02-28</td>\n",
              "      <td>22124.70</td>\n",
              "      <td>22450.349609375</td>\n",
              "      <td>22104.849609375</td>\n",
              "      <td>22433.400390625</td>\n",
              "      <td>551300</td>\n",
              "    </tr>\n",
              "    <tr>\n",
              "      <th>2741</th>\n",
              "      <td>2025-03-03</td>\n",
              "      <td>22119.30</td>\n",
              "      <td>22261.55078125</td>\n",
              "      <td>22004.69921875</td>\n",
              "      <td>22194.55078125</td>\n",
              "      <td>282400</td>\n",
              "    </tr>\n",
              "  </tbody>\n",
              "</table>\n",
              "<p>2742 rows × 6 columns</p>\n",
              "</div>\n",
              "    <div class=\"colab-df-buttons\">\n",
              "\n",
              "  <div class=\"colab-df-container\">\n",
              "    <button class=\"colab-df-convert\" onclick=\"convertToInteractive('df-2fc88808-81e0-4642-8edc-af81837dffa0')\"\n",
              "            title=\"Convert this dataframe to an interactive table.\"\n",
              "            style=\"display:none;\">\n",
              "\n",
              "  <svg xmlns=\"http://www.w3.org/2000/svg\" height=\"24px\" viewBox=\"0 -960 960 960\">\n",
              "    <path d=\"M120-120v-720h720v720H120Zm60-500h600v-160H180v160Zm220 220h160v-160H400v160Zm0 220h160v-160H400v160ZM180-400h160v-160H180v160Zm440 0h160v-160H620v160ZM180-180h160v-160H180v160Zm440 0h160v-160H620v160Z\"/>\n",
              "  </svg>\n",
              "    </button>\n",
              "\n",
              "  <style>\n",
              "    .colab-df-container {\n",
              "      display:flex;\n",
              "      gap: 12px;\n",
              "    }\n",
              "\n",
              "    .colab-df-convert {\n",
              "      background-color: #E8F0FE;\n",
              "      border: none;\n",
              "      border-radius: 50%;\n",
              "      cursor: pointer;\n",
              "      display: none;\n",
              "      fill: #1967D2;\n",
              "      height: 32px;\n",
              "      padding: 0 0 0 0;\n",
              "      width: 32px;\n",
              "    }\n",
              "\n",
              "    .colab-df-convert:hover {\n",
              "      background-color: #E2EBFA;\n",
              "      box-shadow: 0px 1px 2px rgba(60, 64, 67, 0.3), 0px 1px 3px 1px rgba(60, 64, 67, 0.15);\n",
              "      fill: #174EA6;\n",
              "    }\n",
              "\n",
              "    .colab-df-buttons div {\n",
              "      margin-bottom: 4px;\n",
              "    }\n",
              "\n",
              "    [theme=dark] .colab-df-convert {\n",
              "      background-color: #3B4455;\n",
              "      fill: #D2E3FC;\n",
              "    }\n",
              "\n",
              "    [theme=dark] .colab-df-convert:hover {\n",
              "      background-color: #434B5C;\n",
              "      box-shadow: 0px 1px 3px 1px rgba(0, 0, 0, 0.15);\n",
              "      filter: drop-shadow(0px 1px 2px rgba(0, 0, 0, 0.3));\n",
              "      fill: #FFFFFF;\n",
              "    }\n",
              "  </style>\n",
              "\n",
              "    <script>\n",
              "      const buttonEl =\n",
              "        document.querySelector('#df-2fc88808-81e0-4642-8edc-af81837dffa0 button.colab-df-convert');\n",
              "      buttonEl.style.display =\n",
              "        google.colab.kernel.accessAllowed ? 'block' : 'none';\n",
              "\n",
              "      async function convertToInteractive(key) {\n",
              "        const element = document.querySelector('#df-2fc88808-81e0-4642-8edc-af81837dffa0');\n",
              "        const dataTable =\n",
              "          await google.colab.kernel.invokeFunction('convertToInteractive',\n",
              "                                                    [key], {});\n",
              "        if (!dataTable) return;\n",
              "\n",
              "        const docLinkHtml = 'Like what you see? Visit the ' +\n",
              "          '<a target=\"_blank\" href=https://colab.research.google.com/notebooks/data_table.ipynb>data table notebook</a>'\n",
              "          + ' to learn more about interactive tables.';\n",
              "        element.innerHTML = '';\n",
              "        dataTable['output_type'] = 'display_data';\n",
              "        await google.colab.output.renderOutput(dataTable, element);\n",
              "        const docLink = document.createElement('div');\n",
              "        docLink.innerHTML = docLinkHtml;\n",
              "        element.appendChild(docLink);\n",
              "      }\n",
              "    </script>\n",
              "  </div>\n",
              "\n",
              "\n",
              "<div id=\"df-247b27e6-dfcd-4ec1-bc07-3baae0de33cd\">\n",
              "  <button class=\"colab-df-quickchart\" onclick=\"quickchart('df-247b27e6-dfcd-4ec1-bc07-3baae0de33cd')\"\n",
              "            title=\"Suggest charts\"\n",
              "            style=\"display:none;\">\n",
              "\n",
              "<svg xmlns=\"http://www.w3.org/2000/svg\" height=\"24px\"viewBox=\"0 0 24 24\"\n",
              "     width=\"24px\">\n",
              "    <g>\n",
              "        <path d=\"M19 3H5c-1.1 0-2 .9-2 2v14c0 1.1.9 2 2 2h14c1.1 0 2-.9 2-2V5c0-1.1-.9-2-2-2zM9 17H7v-7h2v7zm4 0h-2V7h2v10zm4 0h-2v-4h2v4z\"/>\n",
              "    </g>\n",
              "</svg>\n",
              "  </button>\n",
              "\n",
              "<style>\n",
              "  .colab-df-quickchart {\n",
              "      --bg-color: #E8F0FE;\n",
              "      --fill-color: #1967D2;\n",
              "      --hover-bg-color: #E2EBFA;\n",
              "      --hover-fill-color: #174EA6;\n",
              "      --disabled-fill-color: #AAA;\n",
              "      --disabled-bg-color: #DDD;\n",
              "  }\n",
              "\n",
              "  [theme=dark] .colab-df-quickchart {\n",
              "      --bg-color: #3B4455;\n",
              "      --fill-color: #D2E3FC;\n",
              "      --hover-bg-color: #434B5C;\n",
              "      --hover-fill-color: #FFFFFF;\n",
              "      --disabled-bg-color: #3B4455;\n",
              "      --disabled-fill-color: #666;\n",
              "  }\n",
              "\n",
              "  .colab-df-quickchart {\n",
              "    background-color: var(--bg-color);\n",
              "    border: none;\n",
              "    border-radius: 50%;\n",
              "    cursor: pointer;\n",
              "    display: none;\n",
              "    fill: var(--fill-color);\n",
              "    height: 32px;\n",
              "    padding: 0;\n",
              "    width: 32px;\n",
              "  }\n",
              "\n",
              "  .colab-df-quickchart:hover {\n",
              "    background-color: var(--hover-bg-color);\n",
              "    box-shadow: 0 1px 2px rgba(60, 64, 67, 0.3), 0 1px 3px 1px rgba(60, 64, 67, 0.15);\n",
              "    fill: var(--button-hover-fill-color);\n",
              "  }\n",
              "\n",
              "  .colab-df-quickchart-complete:disabled,\n",
              "  .colab-df-quickchart-complete:disabled:hover {\n",
              "    background-color: var(--disabled-bg-color);\n",
              "    fill: var(--disabled-fill-color);\n",
              "    box-shadow: none;\n",
              "  }\n",
              "\n",
              "  .colab-df-spinner {\n",
              "    border: 2px solid var(--fill-color);\n",
              "    border-color: transparent;\n",
              "    border-bottom-color: var(--fill-color);\n",
              "    animation:\n",
              "      spin 1s steps(1) infinite;\n",
              "  }\n",
              "\n",
              "  @keyframes spin {\n",
              "    0% {\n",
              "      border-color: transparent;\n",
              "      border-bottom-color: var(--fill-color);\n",
              "      border-left-color: var(--fill-color);\n",
              "    }\n",
              "    20% {\n",
              "      border-color: transparent;\n",
              "      border-left-color: var(--fill-color);\n",
              "      border-top-color: var(--fill-color);\n",
              "    }\n",
              "    30% {\n",
              "      border-color: transparent;\n",
              "      border-left-color: var(--fill-color);\n",
              "      border-top-color: var(--fill-color);\n",
              "      border-right-color: var(--fill-color);\n",
              "    }\n",
              "    40% {\n",
              "      border-color: transparent;\n",
              "      border-right-color: var(--fill-color);\n",
              "      border-top-color: var(--fill-color);\n",
              "    }\n",
              "    60% {\n",
              "      border-color: transparent;\n",
              "      border-right-color: var(--fill-color);\n",
              "    }\n",
              "    80% {\n",
              "      border-color: transparent;\n",
              "      border-right-color: var(--fill-color);\n",
              "      border-bottom-color: var(--fill-color);\n",
              "    }\n",
              "    90% {\n",
              "      border-color: transparent;\n",
              "      border-bottom-color: var(--fill-color);\n",
              "    }\n",
              "  }\n",
              "</style>\n",
              "\n",
              "  <script>\n",
              "    async function quickchart(key) {\n",
              "      const quickchartButtonEl =\n",
              "        document.querySelector('#' + key + ' button');\n",
              "      quickchartButtonEl.disabled = true;  // To prevent multiple clicks.\n",
              "      quickchartButtonEl.classList.add('colab-df-spinner');\n",
              "      try {\n",
              "        const charts = await google.colab.kernel.invokeFunction(\n",
              "            'suggestCharts', [key], {});\n",
              "      } catch (error) {\n",
              "        console.error('Error during call to suggestCharts:', error);\n",
              "      }\n",
              "      quickchartButtonEl.classList.remove('colab-df-spinner');\n",
              "      quickchartButtonEl.classList.add('colab-df-quickchart-complete');\n",
              "    }\n",
              "    (() => {\n",
              "      let quickchartButtonEl =\n",
              "        document.querySelector('#df-247b27e6-dfcd-4ec1-bc07-3baae0de33cd button');\n",
              "      quickchartButtonEl.style.display =\n",
              "        google.colab.kernel.accessAllowed ? 'block' : 'none';\n",
              "    })();\n",
              "  </script>\n",
              "</div>\n",
              "\n",
              "  <div id=\"id_d28717f8-8442-4d1e-b80f-dcd00a2342fe\">\n",
              "    <style>\n",
              "      .colab-df-generate {\n",
              "        background-color: #E8F0FE;\n",
              "        border: none;\n",
              "        border-radius: 50%;\n",
              "        cursor: pointer;\n",
              "        display: none;\n",
              "        fill: #1967D2;\n",
              "        height: 32px;\n",
              "        padding: 0 0 0 0;\n",
              "        width: 32px;\n",
              "      }\n",
              "\n",
              "      .colab-df-generate:hover {\n",
              "        background-color: #E2EBFA;\n",
              "        box-shadow: 0px 1px 2px rgba(60, 64, 67, 0.3), 0px 1px 3px 1px rgba(60, 64, 67, 0.15);\n",
              "        fill: #174EA6;\n",
              "      }\n",
              "\n",
              "      [theme=dark] .colab-df-generate {\n",
              "        background-color: #3B4455;\n",
              "        fill: #D2E3FC;\n",
              "      }\n",
              "\n",
              "      [theme=dark] .colab-df-generate:hover {\n",
              "        background-color: #434B5C;\n",
              "        box-shadow: 0px 1px 3px 1px rgba(0, 0, 0, 0.15);\n",
              "        filter: drop-shadow(0px 1px 2px rgba(0, 0, 0, 0.3));\n",
              "        fill: #FFFFFF;\n",
              "      }\n",
              "    </style>\n",
              "    <button class=\"colab-df-generate\" onclick=\"generateWithVariable('df')\"\n",
              "            title=\"Generate code using this dataframe.\"\n",
              "            style=\"display:none;\">\n",
              "\n",
              "  <svg xmlns=\"http://www.w3.org/2000/svg\" height=\"24px\"viewBox=\"0 0 24 24\"\n",
              "       width=\"24px\">\n",
              "    <path d=\"M7,19H8.4L18.45,9,17,7.55,7,17.6ZM5,21V16.75L18.45,3.32a2,2,0,0,1,2.83,0l1.4,1.43a1.91,1.91,0,0,1,.58,1.4,1.91,1.91,0,0,1-.58,1.4L9.25,21ZM18.45,9,17,7.55Zm-12,3A5.31,5.31,0,0,0,4.9,8.1,5.31,5.31,0,0,0,1,6.5,5.31,5.31,0,0,0,4.9,4.9,5.31,5.31,0,0,0,6.5,1,5.31,5.31,0,0,0,8.1,4.9,5.31,5.31,0,0,0,12,6.5,5.46,5.46,0,0,0,6.5,12Z\"/>\n",
              "  </svg>\n",
              "    </button>\n",
              "    <script>\n",
              "      (() => {\n",
              "      const buttonEl =\n",
              "        document.querySelector('#id_d28717f8-8442-4d1e-b80f-dcd00a2342fe button.colab-df-generate');\n",
              "      buttonEl.style.display =\n",
              "        google.colab.kernel.accessAllowed ? 'block' : 'none';\n",
              "\n",
              "      buttonEl.onclick = () => {\n",
              "        google.colab.notebook.generateWithVariable('df');\n",
              "      }\n",
              "      })();\n",
              "    </script>\n",
              "  </div>\n",
              "\n",
              "    </div>\n",
              "  </div>\n"
            ],
            "application/vnd.google.colaboratory.intrinsic+json": {
              "type": "dataframe",
              "variable_name": "df",
              "summary": "{\n  \"name\": \"df\",\n  \"rows\": 2742,\n  \"fields\": [\n    {\n      \"column\": \"Price\",\n      \"properties\": {\n        \"dtype\": \"object\",\n        \"num_unique_values\": 2742,\n        \"samples\": [\n          \"2017-07-13\",\n          \"2020-03-26\",\n          \"2019-06-04\"\n        ],\n        \"semantic_type\": \"\",\n        \"description\": \"\"\n      }\n    },\n    {\n      \"column\": \"Close\",\n      \"properties\": {\n        \"dtype\": \"number\",\n        \"std\": 5177.501133671434,\n        \"min\": 6000.9,\n        \"max\": 26216.05,\n        \"num_unique_values\": 2719,\n        \"samples\": [\n          8808.4,\n          7688.25,\n          19523.55\n        ],\n        \"semantic_type\": \"\",\n        \"description\": \"\"\n      }\n    },\n    {\n      \"column\": \"High\",\n      \"properties\": {\n        \"dtype\": \"string\",\n        \"num_unique_values\": 2727,\n        \"samples\": [\n          \"12152.150390625\",\n          \"10777.150390625\",\n          \"14424.75\"\n        ],\n        \"semantic_type\": \"\",\n        \"description\": \"\"\n      }\n    },\n    {\n      \"column\": \"Low\",\n      \"properties\": {\n        \"dtype\": \"string\",\n        \"num_unique_values\": 2727,\n        \"samples\": [\n          \"11974.2001953125\",\n          \"10630.25\",\n          \"14151.400390625\"\n        ],\n        \"semantic_type\": \"\",\n        \"description\": \"\"\n      }\n    },\n    {\n      \"column\": \"Open\",\n      \"properties\": {\n        \"dtype\": \"string\",\n        \"num_unique_values\": 2726,\n        \"samples\": [\n          \"17905.80078125\",\n          \"10578.099609375\",\n          \"10738.4501953125\"\n        ],\n        \"semantic_type\": \"\",\n        \"description\": \"\"\n      }\n    },\n    {\n      \"column\": \"Volume\",\n      \"properties\": {\n        \"dtype\": \"string\",\n        \"num_unique_values\": 1995,\n        \"samples\": [\n          \"410100\",\n          \"307200\",\n          \"192300\"\n        ],\n        \"semantic_type\": \"\",\n        \"description\": \"\"\n      }\n    }\n  ]\n}"
            }
          },
          "metadata": {},
          "execution_count": 82
        }
      ]
    },
    {
      "cell_type": "code",
      "source": [
        "df = df.rename(columns={'Price':'Date'})\n"
      ],
      "metadata": {
        "id": "xMysv0Xtvta0"
      },
      "execution_count": 83,
      "outputs": []
    },
    {
      "cell_type": "code",
      "source": [
        "df.reset_index(drop=True)\n",
        "df['Date'] = pd.to_datetime(df['Date'])"
      ],
      "metadata": {
        "id": "NDTmpmpNvtz_"
      },
      "execution_count": 84,
      "outputs": []
    },
    {
      "cell_type": "code",
      "source": [
        "df = df.set_index(['Date'],drop=True)"
      ],
      "metadata": {
        "id": "wloLEQ4dvmU_"
      },
      "execution_count": 85,
      "outputs": []
    },
    {
      "cell_type": "code",
      "source": [
        "df.loc['2018-01-01':'2022-12-30']['Close'].plot()"
      ],
      "metadata": {
        "colab": {
          "base_uri": "https://localhost:8080/",
          "height": 439
        },
        "id": "2LuFF5LAvmXn",
        "outputId": "a8a1be63-fa5f-45b2-e30a-b3d6a258b9ea"
      },
      "execution_count": 86,
      "outputs": [
        {
          "output_type": "execute_result",
          "data": {
            "text/plain": [
              "<Axes: xlabel='Date'>"
            ]
          },
          "metadata": {},
          "execution_count": 86
        },
        {
          "output_type": "display_data",
          "data": {
            "text/plain": [
              "<Figure size 640x480 with 1 Axes>"
            ],
            "image/png": "[encoded data removed]"
          },
          "metadata": {}
        }
      ]
    },
    {
      "cell_type": "markdown",
      "source": [
        "### **Step 3: Visualize the Data**\n",
        "\n",
        "Visualization helps identify trends, seasonality, and patterns."
      ],
      "metadata": {
        "id": "xN7cbJIQwnbb"
      }
    },
    {
      "cell_type": "code",
      "source": [
        "plt.figure(figsize=(20,7))\n",
        "a = sns.lineplot(x='Date',y='Close',data = df,color='green')\n",
        "a.set_title(\"RELIANCE Weekly Stock Data\",fontsize=15)\n",
        "plt.show()"
      ],
      "metadata": {
        "colab": {
          "base_uri": "https://localhost:8080/",
          "height": 465
        },
        "id": "I1Kp-8uSvmaU",
        "outputId": "d037d9cc-482c-4a09-ee03-0a565df1b8b0"
      },
      "execution_count": 87,
      "outputs": [
        {
          "output_type": "display_data",
          "data": {
            "text/plain": [
              "<Figure size 2000x700 with 1 Axes>"
            ],
            "image/png": "[encoded data removed]"
          },
          "metadata": {}
        }
      ]
    },
    {
      "cell_type": "markdown",
      "source": [
        "### **Step 4: Decompose the Time Series**\n",
        "\n",
        "Decompose the data into trend, seasonality, and residual components."
      ],
      "metadata": {
        "id": "u-xQUHcQwvpb"
      }
    },
    {
      "cell_type": "code",
      "source": [
        "from statsmodels.tsa.seasonal import seasonal_decompose\n",
        "import random\n",
        "from os import close\n",
        "import matplotlib.pyplot as plt"
      ],
      "metadata": {
        "id": "3eBQzSu6xA35"
      },
      "execution_count": 88,
      "outputs": []
    },
    {
      "cell_type": "markdown",
      "source": [
        "## create data for visualize"
      ],
      "metadata": {
        "id": "_eYow7lPxdAG"
      }
    },
    {
      "cell_type": "code",
      "source": [
        "# Use this:\n",
        "data = df[['Close']].copy()  # Create a copy to avoid modifying 'df'\n",
        "data = data.set_index(df.index)  # Set the index of 'data' to the index of 'df'"
      ],
      "metadata": {
        "id": "GrtmLhJQxhXk"
      },
      "execution_count": 89,
      "outputs": []
    },
    {
      "cell_type": "markdown",
      "source": [
        "## Additive Series"
      ],
      "metadata": {
        "id": "zrhFjsAVympp"
      }
    },
    {
      "cell_type": "code",
      "source": [
        "res = seasonal_decompose(data,model=\"additive\",period=1)\n",
        "res.plot()\n",
        "plt.show()"
      ],
      "metadata": {
        "colab": {
          "base_uri": "https://localhost:8080/",
          "height": 487
        },
        "id": "bdbYR_oPvmdv",
        "outputId": "7cbcb8ae-d672-4a16-da09-2b6ccdcef1ef"
      },
      "execution_count": 90,
      "outputs": [
        {
          "output_type": "display_data",
          "data": {
            "text/plain": [
              "<Figure size 640x480 with 4 Axes>"
            ],
            "image/png": "[encoded data removed]"
          },
          "metadata": {}
        }
      ]
    },
    {
      "cell_type": "markdown",
      "source": [
        "## Multiplicative Series"
      ],
      "metadata": {
        "id": "LClIud1dyrdW"
      }
    },
    {
      "cell_type": "code",
      "source": [
        "res = seasonal_decompose(data,model=\"multiplicative\",period=1)\n",
        "res.plot()"
      ],
      "metadata": {
        "colab": {
          "base_uri": "https://localhost:8080/",
          "height": 957
        },
        "id": "mynXSKexy6El",
        "outputId": "cabd0a9b-b3e1-4ec1-daae-a01e77295c2d"
      },
      "execution_count": 91,
      "outputs": [
        {
          "output_type": "execute_result",
          "data": {
            "text/plain": [
              "<Figure size 640x480 with 4 Axes>"
            ],
            "image/png": "[encoded data removed]"
          },
          "metadata": {},
          "execution_count": 91
        },
        {
          "output_type": "display_data",
          "data": {
            "text/plain": [
              "<Figure size 640x480 with 4 Axes>"
            ],
            "image/png": "[encoded data removed]"
          },
          "metadata": {}
        }
      ]
    },
    {
      "cell_type": "code",
      "source": [
        "df.iloc[0]"
      ],
      "metadata": {
        "colab": {
          "base_uri": "https://localhost:8080/",
          "height": 241
        },
        "id": "peXiU7PlQUgb",
        "outputId": "b503da3b-6b24-4e18-fbbe-63f28ae211d3"
      },
      "execution_count": 92,
      "outputs": [
        {
          "output_type": "execute_result",
          "data": {
            "text/plain": [
              "Close             6221.15\n",
              "High      6358.2998046875\n",
              "Low       6211.2998046875\n",
              "Open              6301.25\n",
              "Volume             158100\n",
              "Name: 2014-01-02 00:00:00, dtype: object"
            ],
            "text/html": [
              "<div>\n",
              "<style scoped>\n",
              "    .dataframe tbody tr th:only-of-type {\n",
              "        vertical-align: middle;\n",
              "    }\n",
              "\n",
              "    .dataframe tbody tr th {\n",
              "        vertical-align: top;\n",
              "    }\n",
              "\n",
              "    .dataframe thead th {\n",
              "        text-align: right;\n",
              "    }\n",
              "</style>\n",
              "<table border=\"1\" class=\"dataframe\">\n",
              "  <thead>\n",
              "    <tr style=\"text-align: right;\">\n",
              "      <th></th>\n",
              "      <th>2014-01-02</th>\n",
              "    </tr>\n",
              "  </thead>\n",
              "  <tbody>\n",
              "    <tr>\n",
              "      <th>Close</th>\n",
              "      <td>6221.15</td>\n",
              "    </tr>\n",
              "    <tr>\n",
              "      <th>High</th>\n",
              "      <td>6358.2998046875</td>\n",
              "    </tr>\n",
              "    <tr>\n",
              "      <th>Low</th>\n",
              "      <td>6211.2998046875</td>\n",
              "    </tr>\n",
              "    <tr>\n",
              "      <th>Open</th>\n",
              "      <td>6301.25</td>\n",
              "    </tr>\n",
              "    <tr>\n",
              "      <th>Volume</th>\n",
              "      <td>158100</td>\n",
              "    </tr>\n",
              "  </tbody>\n",
              "</table>\n",
              "</div><br><label><b>dtype:</b> object</label>"
            ]
          },
          "metadata": {},
          "execution_count": 92
        }
      ]
    },
    {
      "cell_type": "code",
      "source": [],
      "metadata": {
        "id": "_ZoST_UAQyla"
      },
      "execution_count": 92,
      "outputs": []
    },
    {
      "cell_type": "markdown",
      "source": [
        "### Normalize"
      ],
      "metadata": {
        "id": "v3SHANoDkPMY"
      }
    },
    {
      "cell_type": "code",
      "source": [
        "scaler = MinMaxScaler(feature_range=(0,1))\n",
        "scaled_price = scaler.fit_transform(df[['Close']])"
      ],
      "metadata": {
        "id": "mEis8gkUkOJN"
      },
      "execution_count": 93,
      "outputs": []
    },
    {
      "cell_type": "code",
      "source": [
        "def create_dataset(sequance_lenght,data):\n",
        "  x = []\n",
        "  y = []\n",
        "  # Convert the input data to a NumPy array for slicing\n",
        "  data = np.array(data).reshape(-1, 1)\n",
        "  for i in range(sequance_lenght,len(data)):\n",
        "    x.append(data[ i - sequance_lenght:i,0])\n",
        "    y.append(data[i,0])\n",
        "  return np.array(x),np.array(y)\n"
      ],
      "metadata": {
        "id": "G9ibKl39mAMT"
      },
      "execution_count": 94,
      "outputs": []
    },
    {
      "cell_type": "code",
      "source": [
        "sequance_len = 60\n",
        "X,y = create_dataset(sequance_len,scaled_price)"
      ],
      "metadata": {
        "id": "Bo5Qjmuon9_a"
      },
      "execution_count": 95,
      "outputs": []
    },
    {
      "cell_type": "code",
      "source": [
        "X.shape"
      ],
      "metadata": {
        "colab": {
          "base_uri": "https://localhost:8080/"
        },
        "id": "twVuDTZGo8jU",
        "outputId": "033e16e6-3af8-4fa6-a0ee-6874da33071e"
      },
      "execution_count": 96,
      "outputs": [
        {
          "output_type": "execute_result",
          "data": {
            "text/plain": [
              "(2682, 60)"
            ]
          },
          "metadata": {},
          "execution_count": 96
        }
      ]
    },
    {
      "cell_type": "code",
      "source": [
        "X = X.reshape(X.shape[0],X.shape[1])"
      ],
      "metadata": {
        "id": "grDG-AFOqgmW"
      },
      "execution_count": 97,
      "outputs": []
    },
    {
      "cell_type": "code",
      "source": [
        "X.shape"
      ],
      "metadata": {
        "colab": {
          "base_uri": "https://localhost:8080/"
        },
        "id": "5jkSzB6VDlLi",
        "outputId": "7be93930-4ea6-42f0-df5b-a7d1f69b8b22"
      },
      "execution_count": 98,
      "outputs": [
        {
          "output_type": "execute_result",
          "data": {
            "text/plain": [
              "(2682, 60)"
            ]
          },
          "metadata": {},
          "execution_count": 98
        }
      ]
    },
    {
      "cell_type": "markdown",
      "source": [
        "### Train Test Split"
      ],
      "metadata": {
        "id": "cGlHz9forftX"
      }
    },
    {
      "cell_type": "code",
      "source": [
        "Train_size = int(len(X)*0.80)\n",
        "X_train,X_test = X[:Train_size],X[Train_size:]\n",
        "y_train,y_test = y[:Train_size],y[Train_size:]"
      ],
      "metadata": {
        "id": "-_u9Jfd3qd98"
      },
      "execution_count": 99,
      "outputs": []
    },
    {
      "cell_type": "code",
      "source": [
        "X_train.shape"
      ],
      "metadata": {
        "colab": {
          "base_uri": "https://localhost:8080/"
        },
        "id": "iGi3cFiwin2L",
        "outputId": "8f556f2f-63a5-49d5-85d0-bfd2281c4199"
      },
      "execution_count": 100,
      "outputs": [
        {
          "output_type": "execute_result",
          "data": {
            "text/plain": [
              "(2145, 60)"
            ]
          },
          "metadata": {},
          "execution_count": 100
        }
      ]
    },
    {
      "cell_type": "markdown",
      "source": [
        "## Model training Using Tensorflow.Keras"
      ],
      "metadata": {
        "id": "TC92qyYFsJwU"
      }
    },
    {
      "cell_type": "code",
      "source": [
        "from tensorflow.keras.models import Sequential # container\n",
        "from tensorflow.keras.layers import LSTM,Dense,Dropout"
      ],
      "metadata": {
        "id": "OVsf34a7sMHu"
      },
      "execution_count": 101,
      "outputs": []
    },
    {
      "cell_type": "code",
      "source": [
        "# Building an sequential model\n",
        "\n",
        "model = Sequential()\n",
        "\n",
        "# Add 1st layer\n",
        "model.add(LSTM(units = 64,activation='relu',return_sequences=True,input_shape=(X_train.shape[1],1)))\n",
        "model.add(Dropout(0.2))\n",
        "\n",
        "# Add 1st layer\n",
        "model.add(LSTM(units = 64,activation='relu',return_sequences=False))\n",
        "model.add(Dropout(0.2))\n",
        "\n",
        "# Add 1st layer\n",
        "model.add(Dense(units = 1))\n"
      ],
      "metadata": {
        "id": "drO-DziSs3Gd",
        "colab": {
          "base_uri": "https://localhost:8080/"
        },
        "outputId": "e6668f09-c661-4091-914e-32b848c80652"
      },
      "execution_count": 102,
      "outputs": [
        {
          "output_type": "stream",
          "name": "stderr",
          "text": [
            "/usr/local/lib/python3.11/dist-packages/keras/src/layers/rnn/rnn.py:200: UserWarning: Do not pass an `input_shape`/`input_dim` argument to a layer. When using Sequential models, prefer using an `Input(shape)` object as the first layer in the model instead.\n",
            "  super().__init__(**kwargs)\n"
          ]
        }
      ]
    },
    {
      "cell_type": "code",
      "source": [
        "model.compile(optimizer='adam',loss='mean_squared_error')"
      ],
      "metadata": {
        "id": "yiDkfps6v15M"
      },
      "execution_count": 103,
      "outputs": []
    },
    {
      "cell_type": "code",
      "source": [
        "model.summary()"
      ],
      "metadata": {
        "colab": {
          "base_uri": "https://localhost:8080/",
          "height": 286
        },
        "id": "HrZId_7KZ7LL",
        "outputId": "022fcf9a-46e7-4b9b-c04b-6090b0598ab0"
      },
      "execution_count": 104,
      "outputs": [
        {
          "output_type": "display_data",
          "data": {
            "text/plain": [
              "\u001b[1mModel: \"sequential_1\"\u001b[0m\n"
            ],
            "text/html": [
              "<pre style=\"white-space:pre;overflow-x:auto;line-height:normal;font-family:Menlo,'DejaVu Sans Mono',consolas,'Courier New',monospace\"><span style=\"font-weight: bold\">Model: \"sequential_1\"</span>\n",
              "</pre>\n"
            ]
          },
          "metadata": {}
        },
        {
          "output_type": "display_data",
          "data": {
            "text/plain": [
              "┏━━━━━━━━━━━━━━━━━━━━━━━━━━━━━━━━━━━━━━┳━━━━━━━━━━━━━━━━━━━━━━━━━━━━━┳━━━━━━━━━━━━━━━━━┓\n",
              "┃\u001b[1m \u001b[0m\u001b[1mLayer (type)                        \u001b[0m\u001b[1m \u001b[0m┃\u001b[1m \u001b[0m\u001b[1mOutput Shape               \u001b[0m\u001b[1m \u001b[0m┃\u001b[1m \u001b[0m\u001b[1m        Param #\u001b[0m\u001b[1m \u001b[0m┃\n",
              "┡━━━━━━━━━━━━━━━━━━━━━━━━━━━━━━━━━━━━━━╇━━━━━━━━━━━━━━━━━━━━━━━━━━━━━╇━━━━━━━━━━━━━━━━━┩\n",
              "│ lstm_2 (\u001b[38;5;33mLSTM\u001b[0m)                        │ (\u001b[38;5;45mNone\u001b[0m, \u001b[38;5;34m60\u001b[0m, \u001b[38;5;34m64\u001b[0m)              │          \u001b[38;5;34m16,896\u001b[0m │\n",
              "├──────────────────────────────────────┼─────────────────────────────┼─────────────────┤\n",
              "│ dropout_2 (\u001b[38;5;33mDropout\u001b[0m)                  │ (\u001b[38;5;45mNone\u001b[0m, \u001b[38;5;34m60\u001b[0m, \u001b[38;5;34m64\u001b[0m)              │               \u001b[38;5;34m0\u001b[0m │\n",
              "├──────────────────────────────────────┼─────────────────────────────┼─────────────────┤\n",
              "│ lstm_3 (\u001b[38;5;33mLSTM\u001b[0m)                        │ (\u001b[38;5;45mNone\u001b[0m, \u001b[38;5;34m64\u001b[0m)                  │          \u001b[38;5;34m33,024\u001b[0m │\n",
              "├──────────────────────────────────────┼─────────────────────────────┼─────────────────┤\n",
              "│ dropout_3 (\u001b[38;5;33mDropout\u001b[0m)                  │ (\u001b[38;5;45mNone\u001b[0m, \u001b[38;5;34m64\u001b[0m)                  │               \u001b[38;5;34m0\u001b[0m │\n",
              "├──────────────────────────────────────┼─────────────────────────────┼─────────────────┤\n",
              "│ dense_1 (\u001b[38;5;33mDense\u001b[0m)                      │ (\u001b[38;5;45mNone\u001b[0m, \u001b[38;5;34m1\u001b[0m)                   │              \u001b[38;5;34m65\u001b[0m │\n",
              "└──────────────────────────────────────┴─────────────────────────────┴─────────────────┘\n"
            ],
            "text/html": [
              "<pre style=\"white-space:pre;overflow-x:auto;line-height:normal;font-family:Menlo,'DejaVu Sans Mono',consolas,'Courier New',monospace\">┏━━━━━━━━━━━━━━━━━━━━━━━━━━━━━━━━━━━━━━┳━━━━━━━━━━━━━━━━━━━━━━━━━━━━━┳━━━━━━━━━━━━━━━━━┓\n",
              "┃<span style=\"font-weight: bold\"> Layer (type)                         </span>┃<span style=\"font-weight: bold\"> Output Shape                </span>┃<span style=\"font-weight: bold\">         Param # </span>┃\n",
              "┡━━━━━━━━━━━━━━━━━━━━━━━━━━━━━━━━━━━━━━╇━━━━━━━━━━━━━━━━━━━━━━━━━━━━━╇━━━━━━━━━━━━━━━━━┩\n",
              "│ lstm_2 (<span style=\"color: #0087ff; text-decoration-color: #0087ff\">LSTM</span>)                        │ (<span style=\"color: #00d7ff; text-decoration-color: #00d7ff\">None</span>, <span style=\"color: #00af00; text-decoration-color: #00af00\">60</span>, <span style=\"color: #00af00; text-decoration-color: #00af00\">64</span>)              │          <span style=\"color: #00af00; text-decoration-color: #00af00\">16,896</span> │\n",
              "├──────────────────────────────────────┼─────────────────────────────┼─────────────────┤\n",
              "│ dropout_2 (<span style=\"color: #0087ff; text-decoration-color: #0087ff\">Dropout</span>)                  │ (<span style=\"color: #00d7ff; text-decoration-color: #00d7ff\">None</span>, <span style=\"color: #00af00; text-decoration-color: #00af00\">60</span>, <span style=\"color: #00af00; text-decoration-color: #00af00\">64</span>)              │               <span style=\"color: #00af00; text-decoration-color: #00af00\">0</span> │\n",
              "├──────────────────────────────────────┼─────────────────────────────┼─────────────────┤\n",
              "│ lstm_3 (<span style=\"color: #0087ff; text-decoration-color: #0087ff\">LSTM</span>)                        │ (<span style=\"color: #00d7ff; text-decoration-color: #00d7ff\">None</span>, <span style=\"color: #00af00; text-decoration-color: #00af00\">64</span>)                  │          <span style=\"color: #00af00; text-decoration-color: #00af00\">33,024</span> │\n",
              "├──────────────────────────────────────┼─────────────────────────────┼─────────────────┤\n",
              "│ dropout_3 (<span style=\"color: #0087ff; text-decoration-color: #0087ff\">Dropout</span>)                  │ (<span style=\"color: #00d7ff; text-decoration-color: #00d7ff\">None</span>, <span style=\"color: #00af00; text-decoration-color: #00af00\">64</span>)                  │               <span style=\"color: #00af00; text-decoration-color: #00af00\">0</span> │\n",
              "├──────────────────────────────────────┼─────────────────────────────┼─────────────────┤\n",
              "│ dense_1 (<span style=\"color: #0087ff; text-decoration-color: #0087ff\">Dense</span>)                      │ (<span style=\"color: #00d7ff; text-decoration-color: #00d7ff\">None</span>, <span style=\"color: #00af00; text-decoration-color: #00af00\">1</span>)                   │              <span style=\"color: #00af00; text-decoration-color: #00af00\">65</span> │\n",
              "└──────────────────────────────────────┴─────────────────────────────┴─────────────────┘\n",
              "</pre>\n"
            ]
          },
          "metadata": {}
        },
        {
          "output_type": "display_data",
          "data": {
            "text/plain": [
              "\u001b[1m Total params: \u001b[0m\u001b[38;5;34m49,985\u001b[0m (195.25 KB)\n"
            ],
            "text/html": [
              "<pre style=\"white-space:pre;overflow-x:auto;line-height:normal;font-family:Menlo,'DejaVu Sans Mono',consolas,'Courier New',monospace\"><span style=\"font-weight: bold\"> Total params: </span><span style=\"color: #00af00; text-decoration-color: #00af00\">49,985</span> (195.25 KB)\n",
              "</pre>\n"
            ]
          },
          "metadata": {}
        },
        {
          "output_type": "display_data",
          "data": {
            "text/plain": [
              "\u001b[1m Trainable params: \u001b[0m\u001b[38;5;34m49,985\u001b[0m (195.25 KB)\n"
            ],
            "text/html": [
              "<pre style=\"white-space:pre;overflow-x:auto;line-height:normal;font-family:Menlo,'DejaVu Sans Mono',consolas,'Courier New',monospace\"><span style=\"font-weight: bold\"> Trainable params: </span><span style=\"color: #00af00; text-decoration-color: #00af00\">49,985</span> (195.25 KB)\n",
              "</pre>\n"
            ]
          },
          "metadata": {}
        },
        {
          "output_type": "display_data",
          "data": {
            "text/plain": [
              "\u001b[1m Non-trainable params: \u001b[0m\u001b[38;5;34m0\u001b[0m (0.00 B)\n"
            ],
            "text/html": [
              "<pre style=\"white-space:pre;overflow-x:auto;line-height:normal;font-family:Menlo,'DejaVu Sans Mono',consolas,'Courier New',monospace\"><span style=\"font-weight: bold\"> Non-trainable params: </span><span style=\"color: #00af00; text-decoration-color: #00af00\">0</span> (0.00 B)\n",
              "</pre>\n"
            ]
          },
          "metadata": {}
        }
      ]
    },
    {
      "cell_type": "markdown",
      "source": [
        "### train model"
      ],
      "metadata": {
        "id": "pbC8YXetwQOD"
      }
    },
    {
      "cell_type": "code",
      "source": [
        "model.fit(X_train,y_train,batch_size=16,epochs=20)"
      ],
      "metadata": {
        "colab": {
          "base_uri": "https://localhost:8080/"
        },
        "id": "CNjsQ77gwR6g",
        "outputId": "4be84d9a-cc06-4890-86cf-dfebf373b5fe"
      },
      "execution_count": 105,
      "outputs": [
        {
          "output_type": "stream",
          "name": "stdout",
          "text": [
            "Epoch 1/20\n",
            "\u001b[1m135/135\u001b[0m \u001b[32m━━━━━━━━━━━━━━━━━━━━\u001b[0m\u001b[37m\u001b[0m \u001b[1m19s\u001b[0m 78ms/step - loss: 0.0239\n",
            "Epoch 2/20\n",
            "\u001b[1m135/135\u001b[0m \u001b[32m━━━━━━━━━━━━━━━━━━━━\u001b[0m\u001b[37m\u001b[0m \u001b[1m8s\u001b[0m 56ms/step - loss: 0.0014\n",
            "Epoch 3/20\n",
            "\u001b[1m135/135\u001b[0m \u001b[32m━━━━━━━━━━━━━━━━━━━━\u001b[0m\u001b[37m\u001b[0m \u001b[1m7s\u001b[0m 49ms/step - loss: 0.0013\n",
            "Epoch 4/20\n",
            "\u001b[1m135/135\u001b[0m \u001b[32m━━━━━━━━━━━━━━━━━━━━\u001b[0m\u001b[37m\u001b[0m \u001b[1m7s\u001b[0m 55ms/step - loss: 0.0013\n",
            "Epoch 5/20\n",
            "\u001b[1m135/135\u001b[0m \u001b[32m━━━━━━━━━━━━━━━━━━━━\u001b[0m\u001b[37m\u001b[0m \u001b[1m10s\u001b[0m 56ms/step - loss: 0.0012\n",
            "Epoch 6/20\n",
            "\u001b[1m135/135\u001b[0m \u001b[32m━━━━━━━━━━━━━━━━━━━━\u001b[0m\u001b[37m\u001b[0m \u001b[1m10s\u001b[0m 53ms/step - loss: 0.0011\n",
            "Epoch 7/20\n",
            "\u001b[1m135/135\u001b[0m \u001b[32m━━━━━━━━━━━━━━━━━━━━\u001b[0m\u001b[37m\u001b[0m \u001b[1m9s\u001b[0m 47ms/step - loss: 9.0822e-04\n",
            "Epoch 8/20\n",
            "\u001b[1m135/135\u001b[0m \u001b[32m━━━━━━━━━━━━━━━━━━━━\u001b[0m\u001b[37m\u001b[0m \u001b[1m10s\u001b[0m 48ms/step - loss: 0.0011\n",
            "Epoch 9/20\n",
            "\u001b[1m135/135\u001b[0m \u001b[32m━━━━━━━━━━━━━━━━━━━━\u001b[0m\u001b[37m\u001b[0m \u001b[1m10s\u001b[0m 48ms/step - loss: 8.2203e-04\n",
            "Epoch 10/20\n",
            "\u001b[1m135/135\u001b[0m \u001b[32m━━━━━━━━━━━━━━━━━━━━\u001b[0m\u001b[37m\u001b[0m \u001b[1m8s\u001b[0m 63ms/step - loss: 8.0897e-04\n",
            "Epoch 11/20\n",
            "\u001b[1m135/135\u001b[0m \u001b[32m━━━━━━━━━━━━━━━━━━━━\u001b[0m\u001b[37m\u001b[0m \u001b[1m8s\u001b[0m 47ms/step - loss: 6.2770e-04\n",
            "Epoch 12/20\n",
            "\u001b[1m135/135\u001b[0m \u001b[32m━━━━━━━━━━━━━━━━━━━━\u001b[0m\u001b[37m\u001b[0m \u001b[1m10s\u001b[0m 47ms/step - loss: 0.0011\n",
            "Epoch 13/20\n",
            "\u001b[1m135/135\u001b[0m \u001b[32m━━━━━━━━━━━━━━━━━━━━\u001b[0m\u001b[37m\u001b[0m \u001b[1m13s\u001b[0m 68ms/step - loss: 6.4786e-04\n",
            "Epoch 14/20\n",
            "\u001b[1m135/135\u001b[0m \u001b[32m━━━━━━━━━━━━━━━━━━━━\u001b[0m\u001b[37m\u001b[0m \u001b[1m8s\u001b[0m 57ms/step - loss: 6.8573e-04\n",
            "Epoch 15/20\n",
            "\u001b[1m135/135\u001b[0m \u001b[32m━━━━━━━━━━━━━━━━━━━━\u001b[0m\u001b[37m\u001b[0m \u001b[1m10s\u001b[0m 56ms/step - loss: 6.9650e-04\n",
            "Epoch 16/20\n",
            "\u001b[1m135/135\u001b[0m \u001b[32m━━━━━━━━━━━━━━━━━━━━\u001b[0m\u001b[37m\u001b[0m \u001b[1m9s\u001b[0m 47ms/step - loss: 6.2269e-04\n",
            "Epoch 17/20\n",
            "\u001b[1m135/135\u001b[0m \u001b[32m━━━━━━━━━━━━━━━━━━━━\u001b[0m\u001b[37m\u001b[0m \u001b[1m10s\u001b[0m 47ms/step - loss: 5.5562e-04\n",
            "Epoch 18/20\n",
            "\u001b[1m135/135\u001b[0m \u001b[32m━━━━━━━━━━━━━━━━━━━━\u001b[0m\u001b[37m\u001b[0m \u001b[1m10s\u001b[0m 48ms/step - loss: 8.6329e-04\n",
            "Epoch 19/20\n",
            "\u001b[1m135/135\u001b[0m \u001b[32m━━━━━━━━━━━━━━━━━━━━\u001b[0m\u001b[37m\u001b[0m \u001b[1m8s\u001b[0m 56ms/step - loss: 6.1619e-04\n",
            "Epoch 20/20\n",
            "\u001b[1m135/135\u001b[0m \u001b[32m━━━━━━━━━━━━━━━━━━━━\u001b[0m\u001b[37m\u001b[0m \u001b[1m9s\u001b[0m 50ms/step - loss: 6.8493e-04\n"
          ]
        },
        {
          "output_type": "execute_result",
          "data": {
            "text/plain": [
              "<keras.src.callbacks.history.History at 0x78a079af5350>"
            ]
          },
          "metadata": {},
          "execution_count": 105
        }
      ]
    },
    {
      "cell_type": "code",
      "source": [
        "prediction = model.predict(X_test)\n",
        "real_pred = scaler.inverse_transform(prediction)\n",
        "print(real_pred)"
      ],
      "metadata": {
        "colab": {
          "base_uri": "https://localhost:8080/"
        },
        "id": "xdCEDhijw8Mz",
        "outputId": "3a9de4e3-1280-46b0-eb06-de3cc5d1a5aa"
      },
      "execution_count": 106,
      "outputs": [
        {
          "output_type": "stream",
          "name": "stdout",
          "text": [
            "\u001b[1m17/17\u001b[0m \u001b[32m━━━━━━━━━━━━━━━━━━━━\u001b[0m\u001b[37m\u001b[0m \u001b[1m1s\u001b[0m 53ms/step\n",
            "[[18131.297]\n",
            " [18102.025]\n",
            " [18091.848]\n",
            " [18085.889]\n",
            " [18092.01 ]\n",
            " [18107.379]\n",
            " [18109.416]\n",
            " [18099.611]\n",
            " [18071.088]\n",
            " [18058.014]\n",
            " [18036.03 ]\n",
            " [18010.293]\n",
            " [17981.293]\n",
            " [17962.916]\n",
            " [17946.13 ]\n",
            " [17946.838]\n",
            " [17967.012]\n",
            " [17990.98 ]\n",
            " [18008.1  ]\n",
            " [18028.31 ]\n",
            " [18047.857]\n",
            " [18043.72 ]\n",
            " [17999.344]\n",
            " [17941.36 ]\n",
            " [17881.768]\n",
            " [17822.518]\n",
            " [17769.066]\n",
            " [17747.377]\n",
            " [17737.178]\n",
            " [17731.709]\n",
            " [17743.574]\n",
            " [17765.828]\n",
            " [17788.818]\n",
            " [17802.453]\n",
            " [17824.352]\n",
            " [17855.848]\n",
            " [17891.332]\n",
            " [17917.428]\n",
            " [17926.354]\n",
            " [17922.98 ]\n",
            " [17886.24 ]\n",
            " [17830.64 ]\n",
            " [17764.953]\n",
            " [17692.854]\n",
            " [17615.906]\n",
            " [17558.355]\n",
            " [17504.88 ]\n",
            " [17485.822]\n",
            " [17498.107]\n",
            " [17531.398]\n",
            " [17559.31 ]\n",
            " [17565.467]\n",
            " [17534.15 ]\n",
            " [17474.156]\n",
            " [17396.389]\n",
            " [17317.02 ]\n",
            " [17255.145]\n",
            " [17198.453]\n",
            " [17162.537]\n",
            " [17146.26 ]\n",
            " [17136.129]\n",
            " [17118.64 ]\n",
            " [17103.062]\n",
            " [17086.588]\n",
            " [17083.584]\n",
            " [17114.014]\n",
            " [17163.541]\n",
            " [17234.012]\n",
            " [17313.42 ]\n",
            " [17392.846]\n",
            " [17473.58 ]\n",
            " [17555.078]\n",
            " [17630.26 ]\n",
            " [17683.062]\n",
            " [17713.428]\n",
            " [17723.59 ]\n",
            " [17721.389]\n",
            " [17711.9  ]\n",
            " [17710.547]\n",
            " [17716.088]\n",
            " [17729.406]\n",
            " [17755.164]\n",
            " [17798.986]\n",
            " [17856.129]\n",
            " [17910.225]\n",
            " [17972.893]\n",
            " [18016.9  ]\n",
            " [18064.611]\n",
            " [18108.945]\n",
            " [18151.549]\n",
            " [18187.145]\n",
            " [18216.967]\n",
            " [18248.082]\n",
            " [18266.271]\n",
            " [18265.867]\n",
            " [18250.16 ]\n",
            " [18234.48 ]\n",
            " [18230.008]\n",
            " [18234.979]\n",
            " [18239.258]\n",
            " [18246.477]\n",
            " [18270.803]\n",
            " [18310.887]\n",
            " [18359.096]\n",
            " [18398.318]\n",
            " [18424.955]\n",
            " [18446.178]\n",
            " [18467.32 ]\n",
            " [18486.455]\n",
            " [18514.156]\n",
            " [18535.03 ]\n",
            " [18544.01 ]\n",
            " [18549.084]\n",
            " [18561.59 ]\n",
            " [18580.162]\n",
            " [18594.094]\n",
            " [18617.055]\n",
            " [18635.797]\n",
            " [18656.379]\n",
            " [18679.367]\n",
            " [18693.49 ]\n",
            " [18691.963]\n",
            " [18684.441]\n",
            " [18685.482]\n",
            " [18704.611]\n",
            " [18749.057]\n",
            " [18812.59 ]\n",
            " [18885.57 ]\n",
            " [18958.11 ]\n",
            " [19031.656]\n",
            " [19085.324]\n",
            " [19126.123]\n",
            " [19163.27 ]\n",
            " [19189.617]\n",
            " [19210.443]\n",
            " [19239.389]\n",
            " [19280.953]\n",
            " [19327.96 ]\n",
            " [19379.965]\n",
            " [19440.469]\n",
            " [19480.936]\n",
            " [19501.586]\n",
            " [19510.656]\n",
            " [19521.21 ]\n",
            " [19520.607]\n",
            " [19513.484]\n",
            " [19513.14 ]\n",
            " [19514.227]\n",
            " [19497.857]\n",
            " [19461.49 ]\n",
            " [19430.65 ]\n",
            " [19412.16 ]\n",
            " [19399.623]\n",
            " [19397.354]\n",
            " [19392.812]\n",
            " [19377.895]\n",
            " [19359.893]\n",
            " [19344.55 ]\n",
            " [19323.166]\n",
            " [19296.055]\n",
            " [19276.178]\n",
            " [19261.994]\n",
            " [19256.586]\n",
            " [19251.287]\n",
            " [19236.22 ]\n",
            " [19221.447]\n",
            " [19211.215]\n",
            " [19204.713]\n",
            " [19192.629]\n",
            " [19195.172]\n",
            " [19212.775]\n",
            " [19240.504]\n",
            " [19274.11 ]\n",
            " [19316.549]\n",
            " [19366.361]\n",
            " [19428.215]\n",
            " [19489.955]\n",
            " [19551.967]\n",
            " [19610.846]\n",
            " [19669.428]\n",
            " [19718.11 ]\n",
            " [19737.535]\n",
            " [19726.562]\n",
            " [19694.994]\n",
            " [19655.693]\n",
            " [19615.191]\n",
            " [19582.771]\n",
            " [19540.584]\n",
            " [19508.684]\n",
            " [19475.262]\n",
            " [19436.707]\n",
            " [19409.492]\n",
            " [19400.17 ]\n",
            " [19388.684]\n",
            " [19393.785]\n",
            " [19416.012]\n",
            " [19443.95 ]\n",
            " [19469.145]\n",
            " [19489.01 ]\n",
            " [19511.22 ]\n",
            " [19519.639]\n",
            " [19516.3  ]\n",
            " [19499.67 ]\n",
            " [19453.826]\n",
            " [19382.55 ]\n",
            " [19278.67 ]\n",
            " [19186.62 ]\n",
            " [19117.488]\n",
            " [19062.24 ]\n",
            " [19012.691]\n",
            " [18985.293]\n",
            " [18981.158]\n",
            " [19004.713]\n",
            " [19040.623]\n",
            " [19083.412]\n",
            " [19122.2  ]\n",
            " [19158.094]\n",
            " [19190.41 ]\n",
            " [19236.143]\n",
            " [19290.553]\n",
            " [19342.152]\n",
            " [19384.838]\n",
            " [19426.518]\n",
            " [19465.766]\n",
            " [19499.055]\n",
            " [19525.3  ]\n",
            " [19553.568]\n",
            " [19595.389]\n",
            " [19642.371]\n",
            " [19697.674]\n",
            " [19782.387]\n",
            " [19885.012]\n",
            " [19992.984]\n",
            " [20091.074]\n",
            " [20180.707]\n",
            " [20259.91 ]\n",
            " [20320.135]\n",
            " [20367.494]\n",
            " [20423.117]\n",
            " [20497.062]\n",
            " [20569.623]\n",
            " [20637.863]\n",
            " [20675.314]\n",
            " [20703.367]\n",
            " [20730.75 ]\n",
            " [20761.826]\n",
            " [20807.45 ]\n",
            " [20864.477]\n",
            " [20918.023]\n",
            " [20966.088]\n",
            " [21001.412]\n",
            " [21016.594]\n",
            " [21031.71 ]\n",
            " [21048.648]\n",
            " [21050.08 ]\n",
            " [21047.115]\n",
            " [21047.592]\n",
            " [21051.535]\n",
            " [21075.176]\n",
            " [21120.371]\n",
            " [21166.35 ]\n",
            " [21174.568]\n",
            " [21156.443]\n",
            " [21140.12 ]\n",
            " [21093.092]\n",
            " [21056.076]\n",
            " [21018.713]\n",
            " [21014.09 ]\n",
            " [21008.348]\n",
            " [21018.975]\n",
            " [21033.658]\n",
            " [21060.87 ]\n",
            " [21084.94 ]\n",
            " [21117.465]\n",
            " [21150.518]\n",
            " [21165.021]\n",
            " [21174.926]\n",
            " [21168.895]\n",
            " [21165.902]\n",
            " [21171.275]\n",
            " [21185.17 ]\n",
            " [21211.426]\n",
            " [21246.89 ]\n",
            " [21288.91 ]\n",
            " [21319.389]\n",
            " [21354.285]\n",
            " [21387.002]\n",
            " [21408.969]\n",
            " [21429.852]\n",
            " [21429.408]\n",
            " [21422.19 ]\n",
            " [21438.787]\n",
            " [21468.875]\n",
            " [21498.967]\n",
            " [21535.45 ]\n",
            " [21572.611]\n",
            " [21594.578]\n",
            " [21608.137]\n",
            " [21590.906]\n",
            " [21573.076]\n",
            " [21546.506]\n",
            " [21521.21 ]\n",
            " [21480.62 ]\n",
            " [21439.227]\n",
            " [21413.984]\n",
            " [21404.473]\n",
            " [21396.297]\n",
            " [21398.879]\n",
            " [21421.084]\n",
            " [21460.027]\n",
            " [21502.344]\n",
            " [21541.111]\n",
            " [21580.668]\n",
            " [21616.504]\n",
            " [21658.758]\n",
            " [21697.773]\n",
            " [21740.201]\n",
            " [21762.232]\n",
            " [21754.94 ]\n",
            " [21725.832]\n",
            " [21676.924]\n",
            " [21635.71 ]\n",
            " [21615.502]\n",
            " [21609.006]\n",
            " [21612.373]\n",
            " [21632.754]\n",
            " [21647.453]\n",
            " [21675.62 ]\n",
            " [21703.705]\n",
            " [21732.69 ]\n",
            " [21746.242]\n",
            " [21749.4  ]\n",
            " [21736.746]\n",
            " [21718.238]\n",
            " [21671.188]\n",
            " [21624.703]\n",
            " [21585.828]\n",
            " [21562.668]\n",
            " [21547.543]\n",
            " [21553.156]\n",
            " [21572.076]\n",
            " [21600.26 ]\n",
            " [21635.248]\n",
            " [21697.842]\n",
            " [21765.572]\n",
            " [21827.916]\n",
            " [21878.691]\n",
            " [21905.535]\n",
            " [21902.877]\n",
            " [21890.346]\n",
            " [21929.303]\n",
            " [21874.71 ]\n",
            " [21848.123]\n",
            " [21848.6  ]\n",
            " [21897.361]\n",
            " [21960.94 ]\n",
            " [22026.893]\n",
            " [22092.44 ]\n",
            " [22157.293]\n",
            " [22220.592]\n",
            " [22284.057]\n",
            " [22338.176]\n",
            " [22386.97 ]\n",
            " [22423.453]\n",
            " [22453.852]\n",
            " [22492.34 ]\n",
            " [22541.549]\n",
            " [22604.166]\n",
            " [22664.047]\n",
            " [22727.408]\n",
            " [22784.498]\n",
            " [22845.92 ]\n",
            " [22904.064]\n",
            " [22956.912]\n",
            " [23001.98 ]\n",
            " [23047.861]\n",
            " [23080.908]\n",
            " [23104.771]\n",
            " [23136.42 ]\n",
            " [23174.371]\n",
            " [23213.48 ]\n",
            " [23263.934]\n",
            " [23293.229]\n",
            " [23309.627]\n",
            " [23316.033]\n",
            " [23312.174]\n",
            " [23303.602]\n",
            " [23326.785]\n",
            " [23360.656]\n",
            " [23398.316]\n",
            " [23441.43 ]\n",
            " [23487.193]\n",
            " [23506.879]\n",
            " [23462.7  ]\n",
            " [23391.074]\n",
            " [23336.74 ]\n",
            " [23280.03 ]\n",
            " [23248.072]\n",
            " [23227.9  ]\n",
            " [23199.428]\n",
            " [23171.162]\n",
            " [23176.113]\n",
            " [23196.625]\n",
            " [23232.365]\n",
            " [23276.826]\n",
            " [23324.088]\n",
            " [23368.914]\n",
            " [23422.803]\n",
            " [23475.441]\n",
            " [23525.271]\n",
            " [23576.639]\n",
            " [23629.904]\n",
            " [23681.984]\n",
            " [23728.525]\n",
            " [23761.797]\n",
            " [23781.977]\n",
            " [23771.55 ]\n",
            " [23755.908]\n",
            " [23746.836]\n",
            " [23731.664]\n",
            " [23752.49 ]\n",
            " [23783.14 ]\n",
            " [23818.121]\n",
            " [23854.406]\n",
            " [23884.469]\n",
            " [23911.97 ]\n",
            " [23964.707]\n",
            " [24033.777]\n",
            " [24103.463]\n",
            " [24171.922]\n",
            " [24249.566]\n",
            " [24320.012]\n",
            " [24351.781]\n",
            " [24363.51 ]\n",
            " [24321.629]\n",
            " [24243.438]\n",
            " [24139.66 ]\n",
            " [24051.977]\n",
            " [23976.379]\n",
            " [23915.295]\n",
            " [23864.102]\n",
            " [23835.379]\n",
            " [23813.46 ]\n",
            " [23790.55 ]\n",
            " [23752.473]\n",
            " [23720.07 ]\n",
            " [23686.932]\n",
            " [23632.96 ]\n",
            " [23573.07 ]\n",
            " [23513.213]\n",
            " [23442.203]\n",
            " [23386.021]\n",
            " [23351.006]\n",
            " [23318.934]\n",
            " [23281.545]\n",
            " [23253.42 ]\n",
            " [23207.814]\n",
            " [23176.654]\n",
            " [23174.773]\n",
            " [23163.652]\n",
            " [23146.9  ]\n",
            " [23128.61 ]\n",
            " [23091.4  ]\n",
            " [23025.057]\n",
            " [22950.604]\n",
            " [22873.117]\n",
            " [22806.758]\n",
            " [22738.61 ]\n",
            " [22719.51 ]\n",
            " [22746.758]\n",
            " [22790.18 ]\n",
            " [22843.738]\n",
            " [22868.998]\n",
            " [22896.852]\n",
            " [22933.084]\n",
            " [22983.143]\n",
            " [23035.045]\n",
            " [23101.592]\n",
            " [23165.283]\n",
            " [23217.418]\n",
            " [23258.807]\n",
            " [23293.697]\n",
            " [23314.889]\n",
            " [23345.129]\n",
            " [23367.898]\n",
            " [23359.992]\n",
            " [23329.504]\n",
            " [23272.674]\n",
            " [23181.09 ]\n",
            " [23096.873]\n",
            " [23020.975]\n",
            " [22958.168]\n",
            " [22912.256]\n",
            " [22865.453]\n",
            " [22823.492]\n",
            " [22795.13 ]\n",
            " [22809.486]\n",
            " [22826.498]\n",
            " [22814.54 ]\n",
            " [22798.781]\n",
            " [22780.459]\n",
            " [22750.252]\n",
            " [22710.723]\n",
            " [22644.404]\n",
            " [22580.041]\n",
            " [22524.775]\n",
            " [22486.363]\n",
            " [22450.846]\n",
            " [22431.395]\n",
            " [22396.297]\n",
            " [22368.518]\n",
            " [22349.771]\n",
            " [22328.246]\n",
            " [22287.957]\n",
            " [22253.318]\n",
            " [22239.42 ]\n",
            " [22242.355]\n",
            " [22272.457]\n",
            " [22300.416]\n",
            " [22354.346]\n",
            " [22410.535]\n",
            " [22455.879]\n",
            " [22488.936]\n",
            " [22499.586]\n",
            " [22475.754]\n",
            " [22437.064]\n",
            " [22393.79 ]\n",
            " [22344.635]\n",
            " [22300.072]\n",
            " [22260.61 ]\n",
            " [22226.418]\n",
            " [22196.488]\n",
            " [22162.57 ]\n",
            " [22112.023]\n",
            " [22058.79 ]\n",
            " [22008.838]\n",
            " [21930.58 ]]\n"
          ]
        }
      ]
    },
    {
      "cell_type": "code",
      "source": [
        "y_real = scaler.inverse_transform(y_test.reshape(-1,1))"
      ],
      "metadata": {
        "id": "YuyTOwhrykAJ"
      },
      "execution_count": 107,
      "outputs": []
    },
    {
      "cell_type": "code",
      "source": [
        "plt.subplots(figsize=(14,5))\n",
        "plt.plot(y_real,label='actual',color='red')\n",
        "plt.plot(real_pred,label='predicted',color='green')\n",
        "plt.show()"
      ],
      "metadata": {
        "colab": {
          "base_uri": "https://localhost:8080/",
          "height": 445
        },
        "id": "FveUtUdvxjRb",
        "outputId": "ca8906b8-ef7f-4204-c396-0214bc367844"
      },
      "execution_count": 108,
      "outputs": [
        {
          "output_type": "display_data",
          "data": {
            "text/plain": [
              "<Figure size 1400x500 with 1 Axes>"
            ],
            "image/png": "[encoded data removed]"
          },
          "metadata": {}
        }
      ]
    },
    {
      "cell_type": "code",
      "source": [
        "from sklearn.metrics import mean_absolute_error\n",
        "mae=mean_absolute_error(y_real,real_pred)\n",
        "print(mae)"
      ],
      "metadata": {
        "colab": {
          "base_uri": "https://localhost:8080/"
        },
        "id": "QpEMr_DCzk4O",
        "outputId": "c91865ca-f463-4fbb-9d1c-dcdba512ba9d"
      },
      "execution_count": 109,
      "outputs": [
        {
          "output_type": "stream",
          "name": "stdout",
          "text": [
            "644.9098536429236\n"
          ]
        }
      ]
    },
    {
      "cell_type": "code",
      "source": [
        "# Save the model\n",
        "model.save(\"LSTM_Model.h5\")"
      ],
      "metadata": {
        "colab": {
          "base_uri": "https://localhost:8080/"
        },
        "id": "9KOrpR0wPolH",
        "outputId": "4f77a83a-3f4c-4197-e077-9ae057ee715d"
      },
      "execution_count": 110,
      "outputs": [
        {
          "output_type": "stream",
          "name": "stderr",
          "text": [
            "WARNING:absl:You are saving your model as an HDF5 file via `model.save()` or `keras.saving.save_model(model)`. This file format is considered legacy. We recommend using instead the native Keras format, e.g. `model.save('my_model.keras')` or `keras.saving.save_model(model, 'my_model.keras')`. \n"
          ]
        }
      ]
    },
    {
      "cell_type": "markdown",
      "source": [
        "## **LSTM USING PY-TORCH**"
      ],
      "metadata": {
        "id": "xKGOoEX4mXoI"
      }
    },
    {
      "cell_type": "code",
      "source": [
        "import torch\n",
        "import torch.nn as nn\n",
        "from torch.utils.data import Dataset,DataLoader"
      ],
      "metadata": {
        "id": "JzQDQgmRsSPP"
      },
      "execution_count": null,
      "outputs": []
    },
    {
      "cell_type": "code",
      "source": [
        "import torch\n",
        "from torch.utils.data import Dataset\n",
        "\n",
        "class CustomDataset(Dataset):\n",
        "\n",
        "    def __init__(self, features, labels):\n",
        "\n",
        "        # Convert features and labels into tensors\n",
        "        self.features = torch.tensor(features, dtype=torch.float32).unsqueeze(-1)  # (num_samples, 30, 1)\n",
        "        self.labels = torch.tensor(labels, dtype=torch.float32).unsqueeze(-1)  # # (num_samples, 1)\n",
        "\n",
        "    def __len__(self):\n",
        "        return len(self.features)\n",
        "\n",
        "    def __getitem__(self, index):\n",
        "        return self.features[index], self.labels[index]\n"
      ],
      "metadata": {
        "id": "Cs0Ddo9AmjRf"
      },
      "execution_count": null,
      "outputs": []
    },
    {
      "cell_type": "code",
      "source": [
        "# apply custom dataset class\n",
        "train_data = CustomDataset(X_train,y_train)\n",
        "test_data = CustomDataset(X_test,y_test)"
      ],
      "metadata": {
        "id": "Y1IfgUw3szId"
      },
      "execution_count": null,
      "outputs": []
    },
    {
      "cell_type": "code",
      "source": [
        "# applying dataloader class\n",
        "loaded_train = DataLoader(train_data,batch_size = 16,shuffle= True)\n",
        "loaded_test = DataLoader(test_data,batch_size = 16,shuffle= False)"
      ],
      "metadata": {
        "id": "EHdpBSYdszK3"
      },
      "execution_count": null,
      "outputs": []
    },
    {
      "cell_type": "code",
      "source": [
        "for batch in loaded_train:\n",
        "\n",
        "  x_batch,y_batch = batch\n",
        "\n",
        "  print(\"X_batch shape:\", x_batch.shape)  # (batch_size, 60, 1)\n",
        "  print(\"y_batch shape:\", y_batch.shape)  # (batch_size, 1)\n",
        "  break"
      ],
      "metadata": {
        "colab": {
          "base_uri": "https://localhost:8080/"
        },
        "id": "B2LodK8zszOR",
        "outputId": "6d502a49-789a-4263-c6c1-6aa469a9f4b3"
      },
      "execution_count": 48,
      "outputs": [
        {
          "metadata": {
            "tags": null
          },
          "name": "stdout",
          "output_type": "stream",
          "text": [
            "X_batch shape: torch.Size([16, 60, 1])\n",
            "y_batch shape: torch.Size([16, 1])\n"
          ]
        }
      ]
    },
    {
      "cell_type": "code",
      "source": [
        "len(train_data)"
      ],
      "metadata": {
        "colab": {
          "base_uri": "https://localhost:8080/"
        },
        "id": "6uX8gWitsBeq",
        "outputId": "9c69ecbb-55d1-47db-feac-b109f5ac20a4"
      },
      "execution_count": 49,
      "outputs": [
        {
          "data": {
            "text/plain": [
              "2120"
            ]
          },
          "execution_count": 49,
          "metadata": {},
          "output_type": "execute_result"
        }
      ]
    },
    {
      "cell_type": "code",
      "source": [
        "import torch\n",
        "import torch.nn as nn\n",
        "from torch.utils.data import Dataset, DataLoader\n",
        "\n",
        "# Custom LSTM Neural Network Class\n",
        "class MyLSTM(nn.Module):\n",
        "\n",
        "    # Defining constructor\n",
        "    def __init__(self,input_features):\n",
        "        # Inherit constructor of parent class\n",
        "        super(MyLSTM,self).__init__()\n",
        "\n",
        "        # LSTM Layer 1\n",
        "        self.feature1 = nn.LSTM(input_size=input_features, hidden_size=64, num_layers=1, batch_first=True)\n",
        "        self.droupout1 = nn.Dropout(0.3)\n",
        "\n",
        "         # LSTM Layer 2\n",
        "        self.feature2 = nn.LSTM(input_size= 64, hidden_size=64, num_layers=1, batch_first=True)\n",
        "        self.droupout2 = nn.Dropout(0.3)\n",
        "\n",
        "\n",
        "        # Fully connected layer of classifier\n",
        "        self.classifier = nn.Linear(64, 1)\n",
        "\n",
        "    def forward(self, x):\n",
        "\n",
        "        # LSTM forward pass layer 1\n",
        "        lstm_out, _ = self.feature1(x)\n",
        "        lstm_out  = self.droupout1(lstm_out)\n",
        "\n",
        "        # LSTM forward pass layer 2\n",
        "        lstm_out, _ = self.feature2(lstm_out)\n",
        "        lstm_out  = self.droupout2(lstm_out)\n",
        "\n",
        "        # Take the output from the last time step\n",
        "        out = lstm_out[:, -1, :]\n",
        "\n",
        "        # Pass through classifier\n",
        "        x = self.classifier(out)\n",
        "\n",
        "        return x\n"
      ],
      "metadata": {
        "id": "CrlNhF3AaACO"
      },
      "execution_count": 50,
      "outputs": []
    },
    {
      "cell_type": "markdown",
      "source": [
        "## Creating Object of class"
      ],
      "metadata": {
        "id": "jiTRVPlADFPR"
      }
    },
    {
      "cell_type": "code",
      "source": [
        "# create object of class\n",
        "model = MyLSTM(1)"
      ],
      "metadata": {
        "id": "ubJc7RTg9lUR"
      },
      "execution_count": 51,
      "outputs": []
    },
    {
      "cell_type": "code",
      "source": [
        "print(model)"
      ],
      "metadata": {
        "colab": {
          "base_uri": "https://localhost:8080/"
        },
        "id": "gGJpVOH17BnA",
        "outputId": "8c7c1a87-553f-4839-a11c-118622c6e1bc"
      },
      "execution_count": 52,
      "outputs": [
        {
          "metadata": {
            "tags": null
          },
          "name": "stdout",
          "output_type": "stream",
          "text": [
            "MyLSTM(\n",
            "  (feature1): LSTM(1, 64, batch_first=True)\n",
            "  (droupout1): Dropout(p=0.3, inplace=False)\n",
            "  (feature2): LSTM(64, 64, batch_first=True)\n",
            "  (droupout2): Dropout(p=0.3, inplace=False)\n",
            "  (classifier): Linear(in_features=64, out_features=1, bias=True)\n",
            ")\n"
          ]
        }
      ]
    },
    {
      "cell_type": "markdown",
      "source": [
        "### Defining other parameters"
      ],
      "metadata": {
        "id": "m00JAOaBse8h"
      }
    },
    {
      "cell_type": "code",
      "source": [],
      "metadata": {
        "id": "QuJoI2fW17pT"
      },
      "execution_count": 52,
      "outputs": []
    },
    {
      "cell_type": "code",
      "source": [
        "#  Defining number of epochs\n",
        "epochs = 20\n",
        "\n",
        "#  Defining  value of learning rate\n",
        "learning_rate = 0.01\n",
        "\n",
        "# defining loss - CrossEntropyLoss\n",
        "criterian = nn.MSELoss()\n",
        "\n",
        "# Defining Optimizer\n",
        "optimizer = torch.optim.Adam(params=model.parameters(),lr=learning_rate)"
      ],
      "metadata": {
        "id": "0cNdlL8hmVz2"
      },
      "execution_count": 53,
      "outputs": []
    },
    {
      "cell_type": "markdown",
      "source": [
        "### Trainning Loop"
      ],
      "metadata": {
        "id": "BvTKVvbGspEc"
      }
    },
    {
      "cell_type": "code",
      "source": [
        "for epoch in range(epochs):\n",
        "  # Initialize loss value\n",
        "  total_epoch_loss = 0\n",
        "\n",
        "  for batch_features,batch_labels in loaded_train:\n",
        "\n",
        "    # # move to GPU\n",
        "    #batch_features,batch_labels = batch_features.to(device),batch_labels.to(device)\n",
        "\n",
        "    # forward propagation\n",
        "    outputs = model.forward(batch_features)\n",
        "\n",
        "    # calculate loss\n",
        "    loss = criterian(outputs,batch_labels)\n",
        "\n",
        "    # zero gradient\n",
        "    optimizer.zero_grad()\n",
        "\n",
        "    # backward propagation\n",
        "    loss.backward()\n",
        "\n",
        "    # upadate parameters by using optimizer\n",
        "    optimizer.step()\n",
        "\n",
        "    # Print Loss\n",
        "    total_epoch_loss = total_epoch_loss + loss.item()\n",
        "\n",
        "  avg_loss = total_epoch_loss/len(loaded_train)\n",
        "  # Print Loss\n",
        "  print(f\"Epoch : {epoch + 1} & Loss : {avg_loss}\")\n",
        "\n"
      ],
      "metadata": {
        "colab": {
          "base_uri": "https://localhost:8080/"
        },
        "id": "5Wi6VSSTsoRL",
        "outputId": "b2b3ea37-2f1c-4033-df7d-57662fde192e"
      },
      "execution_count": 54,
      "outputs": [
        {
          "output_type": "stream",
          "name": "stdout",
          "text": [
            "Epoch : 1 & Loss : 0.0064643275378275435\n",
            "Epoch : 2 & Loss : 0.0017310840699601134\n",
            "Epoch : 3 & Loss : 0.0011533455429966317\n",
            "Epoch : 4 & Loss : 0.0020459775613354786\n",
            "Epoch : 5 & Loss : 0.0010797568659046035\n",
            "Epoch : 6 & Loss : 0.0010487369837850345\n",
            "Epoch : 7 & Loss : 0.0010606932247677271\n",
            "Epoch : 8 & Loss : 0.0010782059227795642\n",
            "Epoch : 9 & Loss : 0.0010241847814636696\n",
            "Epoch : 10 & Loss : 0.0014623737626155851\n",
            "Epoch : 11 & Loss : 0.0010107670719402709\n",
            "Epoch : 12 & Loss : 0.0008665538053562221\n",
            "Epoch : 13 & Loss : 0.0008382143043996976\n",
            "Epoch : 14 & Loss : 0.0010744185869440198\n",
            "Epoch : 15 & Loss : 0.0009479282928903805\n",
            "Epoch : 16 & Loss : 0.0010827391877108695\n",
            "Epoch : 17 & Loss : 0.0009893527879428707\n",
            "Epoch : 18 & Loss : 0.0007645755985890046\n",
            "Epoch : 19 & Loss : 0.0010457305865462071\n",
            "Epoch : 20 & Loss : 0.0009299565737505086\n"
          ]
        }
      ]
    },
    {
      "cell_type": "code",
      "source": [
        "model.eval()"
      ],
      "metadata": {
        "id": "iSXgaBx-EMir"
      },
      "execution_count": null,
      "outputs": []
    },
    {
      "cell_type": "code",
      "source": [
        "# Evaluation code for regression task\n",
        "criterian = nn.MSELoss()\n",
        "total_loss = 0\n",
        "with torch.no_grad():  # Disable gradient calculation for inference\n",
        "    for batch_features, batch_labels in loaded_test:\n",
        "\n",
        "        # Move data to GPU\n",
        "        #batch_features, batch_labels = batch_features.to(device), batch_labels.to(device)\n",
        "\n",
        "        # Forward pass\n",
        "        outputs = model(batch_features)\n",
        "\n",
        "        # Calculate loss (e.g., MSE or other regression loss)\n",
        "        loss = criterian(outputs, batch_labels)  # Assuming `criterion` is MSELoss or similar\n",
        "        total_loss += loss.item()\n",
        "\n",
        "# Print average loss\n",
        "average_loss = total_loss / len(loaded_test)\n",
        "print(f'Average Loss: {average_loss:.4f}')\n",
        "print(outputs)\n"
      ],
      "metadata": {
        "id": "jSE1amgtHvNP"
      },
      "execution_count": null,
      "outputs": []
    },
    {
      "cell_type": "code",
      "source": [
        "def predict(model,input_tensor):\n",
        "  model.eval()\n",
        "\n",
        "  # convert input to PyTorch tensor\n",
        "  input_tensor = torch.tensor(input_tensor, dtype=torch.float32).unsqueeze(-1)\n",
        "\n",
        "  with torch.no_grad():\n",
        "    output = model(input_tensor)\n",
        "\n",
        "  return output"
      ],
      "metadata": {
        "id": "YFVFIVDfKJio"
      },
      "execution_count": null,
      "outputs": []
    },
    {
      "cell_type": "code",
      "source": [
        "y_test.shape"
      ],
      "metadata": {
        "colab": {
          "base_uri": "https://localhost:8080/"
        },
        "id": "S8sM5YhrLSf-",
        "outputId": "df55885f-3144-4d12-dac8-5d271dfe82b1"
      },
      "execution_count": 58,
      "outputs": [
        {
          "data": {
            "text/plain": [
              "(530,)"
            ]
          },
          "execution_count": 58,
          "metadata": {},
          "output_type": "execute_result"
        }
      ]
    }
  ]
}